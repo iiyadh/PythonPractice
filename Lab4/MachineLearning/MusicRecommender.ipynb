{
 "cells": [
  {
   "cell_type": "markdown",
   "id": "15c779be",
   "metadata": {
    "vscode": {
     "languageId": "json"
    }
   },
   "source": [
    "# Music Recommender ML Model\n",
    "\n",
    "This notebook builds a decision tree model to predict music genres based on age and gender."
   ]
  },
  {
   "cell_type": "code",
   "execution_count": null,
   "id": "a6c37eae",
   "metadata": {},
   "outputs": [],
   "source": [
    "import pandas as pd\n",
    "import numpy as np\n",
    "from sklearn.model_selection import train_test_split\n",
    "from sklearn.tree import DecisionTreeClassifier\n",
    "from sklearn.metrics import accuracy_score\n",
    "import joblib"
   ]
  },
  {
   "cell_type": "code",
   "execution_count": null,
   "id": "c28b2cb8",
   "metadata": {},
   "outputs": [],
   "source": [
    "#Load the Dataset\n",
    "df = pd.read_csv('music.csv')"
   ]
  },
  {
   "cell_type": "code",
   "execution_count": null,
   "id": "e4b68e3a",
   "metadata": {},
   "outputs": [],
   "source": [
    "# Explore the Data,\n",
    "df.head()"
   ]
  },
  {
   "cell_type": "code",
   "execution_count": null,
   "id": "0c9ad572",
   "metadata": {},
   "outputs": [],
   "source": [
    "# Summary Statistics and Shape\n",
    "df.describe()"
   ]
  },
  {
   "cell_type": "code",
   "execution_count": null,
   "id": "14ce4933",
   "metadata": {},
   "outputs": [],
   "source": [
    "print(\"Dataset Shape:\", df.shape) "
   ]
  },
  {
   "cell_type": "code",
   "execution_count": null,
   "id": "e6c7e181",
   "metadata": {},
   "outputs": [],
   "source": [
    "# Prepare the Data\n",
    "X = df.drop(columns=['genre'])\n",
    "y = df['genre']\n",
    "\n",
    "# Split into train and test sets\n",
    "X_train, X_test, y_train, y_test = train_test_split(X, y, test_size=0.2, random_state=42)"
   ]
  },
  {
   "cell_type": "code",
   "execution_count": null,
   "id": "c2b6b1f7",
   "metadata": {},
   "outputs": [],
   "source": [
    "# Train the Model\n",
    "model = DecisionTreeClassifier()\n",
    "model.fit(X_train, y_train)"
   ]
  },
  {
   "cell_type": "code",
   "execution_count": null,
   "id": "0028d34d",
   "metadata": {},
   "outputs": [],
   "source": [
    "# Evaluate the Model\n",
    "predictions = model.predict(X_test)\n",
    "accuracy = accuracy_score(y_test, predictions)\n",
    "print(f'Accuracy: {accuracy}')"
   ]
  },
  {
   "cell_type": "code",
   "execution_count": null,
   "id": "18285697",
   "metadata": {},
   "outputs": [],
   "source": [
    "# Save the Model\n",
    "joblib.dump(model, 'music_recommender.joblib')"
   ]
  }
 ],
 "metadata": {
  "kernelspec": {
   "display_name": "Python 3",
   "language": "python",
   "name": "python3"
  },
  "language_info": {
   "name": "python",
   "version": "3.12.6"
  }
 },
 "nbformat": 4,
 "nbformat_minor": 5
}
